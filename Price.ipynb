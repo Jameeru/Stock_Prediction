{
 "cells": [
  {
   "cell_type": "code",
   "execution_count": 2,
   "id": "28fa6e4c-c3ee-4523-9b39-0e67fe65a1a6",
   "metadata": {},
   "outputs": [
    {
     "name": "stdout",
     "output_type": "stream",
     "text": [
      "Requirement already satisfied: keras in /opt/homebrew/anaconda3/lib/python3.12/site-packages (3.6.0)\n",
      "Requirement already satisfied: absl-py in /opt/homebrew/anaconda3/lib/python3.12/site-packages (from keras) (2.1.0)\n",
      "Requirement already satisfied: numpy in /opt/homebrew/anaconda3/lib/python3.12/site-packages (from keras) (1.26.4)\n",
      "Requirement already satisfied: rich in /opt/homebrew/anaconda3/lib/python3.12/site-packages (from keras) (13.7.1)\n",
      "Requirement already satisfied: namex in /opt/homebrew/anaconda3/lib/python3.12/site-packages (from keras) (0.0.8)\n",
      "Requirement already satisfied: h5py in /opt/homebrew/anaconda3/lib/python3.12/site-packages (from keras) (3.11.0)\n",
      "Requirement already satisfied: optree in /opt/homebrew/anaconda3/lib/python3.12/site-packages (from keras) (0.13.0)\n",
      "Requirement already satisfied: ml-dtypes in /opt/homebrew/anaconda3/lib/python3.12/site-packages (from keras) (0.4.1)\n",
      "Requirement already satisfied: packaging in /opt/homebrew/anaconda3/lib/python3.12/site-packages (from keras) (24.1)\n",
      "Requirement already satisfied: typing-extensions>=4.5.0 in /opt/homebrew/anaconda3/lib/python3.12/site-packages (from optree->keras) (4.11.0)\n",
      "Requirement already satisfied: markdown-it-py>=2.2.0 in /opt/homebrew/anaconda3/lib/python3.12/site-packages (from rich->keras) (2.2.0)\n",
      "Requirement already satisfied: pygments<3.0.0,>=2.13.0 in /opt/homebrew/anaconda3/lib/python3.12/site-packages (from rich->keras) (2.15.1)\n",
      "Requirement already satisfied: mdurl~=0.1 in /opt/homebrew/anaconda3/lib/python3.12/site-packages (from markdown-it-py>=2.2.0->rich->keras) (0.1.0)\n",
      "Note: you may need to restart the kernel to use updated packages.\n"
     ]
    }
   ],
   "source": [
    "pip install keras\n"
   ]
  },
  {
   "cell_type": "code",
   "execution_count": 3,
   "id": "3db44e3c-5a7c-4c95-987c-0886cc7645ab",
   "metadata": {},
   "outputs": [
    {
     "name": "stdout",
     "output_type": "stream",
     "text": [
      "Requirement already satisfied: tensorflow in /opt/homebrew/anaconda3/lib/python3.12/site-packages (2.18.0)\n",
      "Requirement already satisfied: absl-py>=1.0.0 in /opt/homebrew/anaconda3/lib/python3.12/site-packages (from tensorflow) (2.1.0)\n",
      "Requirement already satisfied: astunparse>=1.6.0 in /opt/homebrew/anaconda3/lib/python3.12/site-packages (from tensorflow) (1.6.3)\n",
      "Requirement already satisfied: flatbuffers>=24.3.25 in /opt/homebrew/anaconda3/lib/python3.12/site-packages (from tensorflow) (24.3.25)\n",
      "Requirement already satisfied: gast!=0.5.0,!=0.5.1,!=0.5.2,>=0.2.1 in /opt/homebrew/anaconda3/lib/python3.12/site-packages (from tensorflow) (0.6.0)\n",
      "Requirement already satisfied: google-pasta>=0.1.1 in /opt/homebrew/anaconda3/lib/python3.12/site-packages (from tensorflow) (0.2.0)\n",
      "Requirement already satisfied: libclang>=13.0.0 in /opt/homebrew/anaconda3/lib/python3.12/site-packages (from tensorflow) (18.1.1)\n",
      "Requirement already satisfied: opt-einsum>=2.3.2 in /opt/homebrew/anaconda3/lib/python3.12/site-packages (from tensorflow) (3.4.0)\n",
      "Requirement already satisfied: packaging in /opt/homebrew/anaconda3/lib/python3.12/site-packages (from tensorflow) (24.1)\n",
      "Requirement already satisfied: protobuf!=4.21.0,!=4.21.1,!=4.21.2,!=4.21.3,!=4.21.4,!=4.21.5,<6.0.0dev,>=3.20.3 in /opt/homebrew/anaconda3/lib/python3.12/site-packages (from tensorflow) (4.25.3)\n",
      "Requirement already satisfied: requests<3,>=2.21.0 in /opt/homebrew/anaconda3/lib/python3.12/site-packages (from tensorflow) (2.32.3)\n",
      "Requirement already satisfied: setuptools in /opt/homebrew/anaconda3/lib/python3.12/site-packages (from tensorflow) (75.1.0)\n",
      "Requirement already satisfied: six>=1.12.0 in /opt/homebrew/anaconda3/lib/python3.12/site-packages (from tensorflow) (1.16.0)\n",
      "Requirement already satisfied: termcolor>=1.1.0 in /opt/homebrew/anaconda3/lib/python3.12/site-packages (from tensorflow) (2.5.0)\n",
      "Requirement already satisfied: typing-extensions>=3.6.6 in /opt/homebrew/anaconda3/lib/python3.12/site-packages (from tensorflow) (4.11.0)\n",
      "Requirement already satisfied: wrapt>=1.11.0 in /opt/homebrew/anaconda3/lib/python3.12/site-packages (from tensorflow) (1.14.1)\n",
      "Requirement already satisfied: grpcio<2.0,>=1.24.3 in /opt/homebrew/anaconda3/lib/python3.12/site-packages (from tensorflow) (1.67.1)\n",
      "Requirement already satisfied: tensorboard<2.19,>=2.18 in /opt/homebrew/anaconda3/lib/python3.12/site-packages (from tensorflow) (2.18.0)\n",
      "Requirement already satisfied: keras>=3.5.0 in /opt/homebrew/anaconda3/lib/python3.12/site-packages (from tensorflow) (3.6.0)\n",
      "Requirement already satisfied: numpy<2.1.0,>=1.26.0 in /opt/homebrew/anaconda3/lib/python3.12/site-packages (from tensorflow) (1.26.4)\n",
      "Requirement already satisfied: h5py>=3.11.0 in /opt/homebrew/anaconda3/lib/python3.12/site-packages (from tensorflow) (3.11.0)\n",
      "Requirement already satisfied: ml-dtypes<0.5.0,>=0.4.0 in /opt/homebrew/anaconda3/lib/python3.12/site-packages (from tensorflow) (0.4.1)\n",
      "Requirement already satisfied: wheel<1.0,>=0.23.0 in /opt/homebrew/anaconda3/lib/python3.12/site-packages (from astunparse>=1.6.0->tensorflow) (0.44.0)\n",
      "Requirement already satisfied: rich in /opt/homebrew/anaconda3/lib/python3.12/site-packages (from keras>=3.5.0->tensorflow) (13.7.1)\n",
      "Requirement already satisfied: namex in /opt/homebrew/anaconda3/lib/python3.12/site-packages (from keras>=3.5.0->tensorflow) (0.0.8)\n",
      "Requirement already satisfied: optree in /opt/homebrew/anaconda3/lib/python3.12/site-packages (from keras>=3.5.0->tensorflow) (0.13.0)\n",
      "Requirement already satisfied: charset-normalizer<4,>=2 in /opt/homebrew/anaconda3/lib/python3.12/site-packages (from requests<3,>=2.21.0->tensorflow) (3.3.2)\n",
      "Requirement already satisfied: idna<4,>=2.5 in /opt/homebrew/anaconda3/lib/python3.12/site-packages (from requests<3,>=2.21.0->tensorflow) (3.7)\n",
      "Requirement already satisfied: urllib3<3,>=1.21.1 in /opt/homebrew/anaconda3/lib/python3.12/site-packages (from requests<3,>=2.21.0->tensorflow) (2.2.3)\n",
      "Requirement already satisfied: certifi>=2017.4.17 in /opt/homebrew/anaconda3/lib/python3.12/site-packages (from requests<3,>=2.21.0->tensorflow) (2024.8.30)\n",
      "Requirement already satisfied: markdown>=2.6.8 in /opt/homebrew/anaconda3/lib/python3.12/site-packages (from tensorboard<2.19,>=2.18->tensorflow) (3.4.1)\n",
      "Requirement already satisfied: tensorboard-data-server<0.8.0,>=0.7.0 in /opt/homebrew/anaconda3/lib/python3.12/site-packages (from tensorboard<2.19,>=2.18->tensorflow) (0.7.2)\n",
      "Requirement already satisfied: werkzeug>=1.0.1 in /opt/homebrew/anaconda3/lib/python3.12/site-packages (from tensorboard<2.19,>=2.18->tensorflow) (3.0.3)\n",
      "Requirement already satisfied: MarkupSafe>=2.1.1 in /opt/homebrew/anaconda3/lib/python3.12/site-packages (from werkzeug>=1.0.1->tensorboard<2.19,>=2.18->tensorflow) (2.1.3)\n",
      "Requirement already satisfied: markdown-it-py>=2.2.0 in /opt/homebrew/anaconda3/lib/python3.12/site-packages (from rich->keras>=3.5.0->tensorflow) (2.2.0)\n",
      "Requirement already satisfied: pygments<3.0.0,>=2.13.0 in /opt/homebrew/anaconda3/lib/python3.12/site-packages (from rich->keras>=3.5.0->tensorflow) (2.15.1)\n",
      "Requirement already satisfied: mdurl~=0.1 in /opt/homebrew/anaconda3/lib/python3.12/site-packages (from markdown-it-py>=2.2.0->rich->keras>=3.5.0->tensorflow) (0.1.0)\n",
      "Note: you may need to restart the kernel to use updated packages.\n"
     ]
    }
   ],
   "source": [
    "pip install tensorflow\n"
   ]
  },
  {
   "cell_type": "code",
   "execution_count": 4,
   "id": "1e76732a-5fa3-42f8-840a-6a2d3e7d9720",
   "metadata": {},
   "outputs": [],
   "source": [
    "import numpy as np \n",
    "import pandas as pd \n",
    "import matplotlib.pyplot as plt \n",
    "from sklearn.preprocessing import MinMaxScaler\n",
    "from keras.models import Sequential\n",
    "from keras.layers import Dense,LSTM,Dropout"
   ]
  },
  {
   "cell_type": "code",
   "execution_count": 5,
   "id": "67a70bb2-afad-4e1e-83ec-edba4db2e6c1",
   "metadata": {},
   "outputs": [
    {
     "data": {
      "text/html": [
       "<div>\n",
       "<style scoped>\n",
       "    .dataframe tbody tr th:only-of-type {\n",
       "        vertical-align: middle;\n",
       "    }\n",
       "\n",
       "    .dataframe tbody tr th {\n",
       "        vertical-align: top;\n",
       "    }\n",
       "\n",
       "    .dataframe thead th {\n",
       "        text-align: right;\n",
       "    }\n",
       "</style>\n",
       "<table border=\"1\" class=\"dataframe\">\n",
       "  <thead>\n",
       "    <tr style=\"text-align: right;\">\n",
       "      <th></th>\n",
       "      <th>Date</th>\n",
       "      <th>Open</th>\n",
       "      <th>High</th>\n",
       "      <th>Low</th>\n",
       "      <th>Close</th>\n",
       "      <th>Volume</th>\n",
       "    </tr>\n",
       "  </thead>\n",
       "  <tbody>\n",
       "    <tr>\n",
       "      <th>0</th>\n",
       "      <td>1/3/2012</td>\n",
       "      <td>325.25</td>\n",
       "      <td>332.83</td>\n",
       "      <td>324.97</td>\n",
       "      <td>663.59</td>\n",
       "      <td>7,380,500</td>\n",
       "    </tr>\n",
       "    <tr>\n",
       "      <th>1</th>\n",
       "      <td>1/4/2012</td>\n",
       "      <td>331.27</td>\n",
       "      <td>333.87</td>\n",
       "      <td>329.08</td>\n",
       "      <td>666.45</td>\n",
       "      <td>5,749,400</td>\n",
       "    </tr>\n",
       "    <tr>\n",
       "      <th>2</th>\n",
       "      <td>1/5/2012</td>\n",
       "      <td>329.83</td>\n",
       "      <td>330.75</td>\n",
       "      <td>326.89</td>\n",
       "      <td>657.21</td>\n",
       "      <td>6,590,300</td>\n",
       "    </tr>\n",
       "    <tr>\n",
       "      <th>3</th>\n",
       "      <td>1/6/2012</td>\n",
       "      <td>328.34</td>\n",
       "      <td>328.77</td>\n",
       "      <td>323.68</td>\n",
       "      <td>648.24</td>\n",
       "      <td>5,405,900</td>\n",
       "    </tr>\n",
       "    <tr>\n",
       "      <th>4</th>\n",
       "      <td>1/9/2012</td>\n",
       "      <td>322.04</td>\n",
       "      <td>322.29</td>\n",
       "      <td>309.46</td>\n",
       "      <td>620.76</td>\n",
       "      <td>11,688,800</td>\n",
       "    </tr>\n",
       "  </tbody>\n",
       "</table>\n",
       "</div>"
      ],
      "text/plain": [
       "       Date    Open    High     Low   Close      Volume\n",
       "0  1/3/2012  325.25  332.83  324.97  663.59   7,380,500\n",
       "1  1/4/2012  331.27  333.87  329.08  666.45   5,749,400\n",
       "2  1/5/2012  329.83  330.75  326.89  657.21   6,590,300\n",
       "3  1/6/2012  328.34  328.77  323.68  648.24   5,405,900\n",
       "4  1/9/2012  322.04  322.29  309.46  620.76  11,688,800"
      ]
     },
     "execution_count": 5,
     "metadata": {},
     "output_type": "execute_result"
    }
   ],
   "source": [
    "data = pd.read_csv('Google_train_data.csv')\n",
    "data.head()"
   ]
  },
  {
   "cell_type": "code",
   "execution_count": 6,
   "id": "b84e54c1-a127-4775-881b-b3d803bed19c",
   "metadata": {},
   "outputs": [
    {
     "name": "stdout",
     "output_type": "stream",
     "text": [
      "<class 'pandas.core.frame.DataFrame'>\n",
      "RangeIndex: 1258 entries, 0 to 1257\n",
      "Data columns (total 6 columns):\n",
      " #   Column  Non-Null Count  Dtype  \n",
      "---  ------  --------------  -----  \n",
      " 0   Date    1258 non-null   object \n",
      " 1   Open    1258 non-null   float64\n",
      " 2   High    1258 non-null   float64\n",
      " 3   Low     1258 non-null   float64\n",
      " 4   Close   1258 non-null   object \n",
      " 5   Volume  1258 non-null   object \n",
      "dtypes: float64(3), object(3)\n",
      "memory usage: 59.1+ KB\n"
     ]
    }
   ],
   "source": [
    "data.info()"
   ]
  },
  {
   "cell_type": "code",
   "execution_count": 7,
   "id": "b185f518-e3de-4a12-8ba7-6a9741aa6e4c",
   "metadata": {},
   "outputs": [],
   "source": [
    "data[\"Close\"]=pd.to_numeric(data.Close,errors='coerce')\n",
    "data = data.dropna()\n",
    "trainData = data.iloc[:,4:5].values"
   ]
  },
  {
   "cell_type": "code",
   "execution_count": 8,
   "id": "2f046a41-43b0-4dd1-9922-65e9709c4062",
   "metadata": {},
   "outputs": [
    {
     "name": "stdout",
     "output_type": "stream",
     "text": [
      "<class 'pandas.core.frame.DataFrame'>\n",
      "Index: 1149 entries, 0 to 1257\n",
      "Data columns (total 6 columns):\n",
      " #   Column  Non-Null Count  Dtype  \n",
      "---  ------  --------------  -----  \n",
      " 0   Date    1149 non-null   object \n",
      " 1   Open    1149 non-null   float64\n",
      " 2   High    1149 non-null   float64\n",
      " 3   Low     1149 non-null   float64\n",
      " 4   Close   1149 non-null   float64\n",
      " 5   Volume  1149 non-null   object \n",
      "dtypes: float64(4), object(2)\n",
      "memory usage: 62.8+ KB\n"
     ]
    }
   ],
   "source": [
    "data.info()"
   ]
  },
  {
   "cell_type": "code",
   "execution_count": 9,
   "id": "54d25d73-dda0-4c29-bf72-90e622f9b874",
   "metadata": {},
   "outputs": [
    {
     "data": {
      "text/plain": [
       "(1149, 1)"
      ]
     },
     "execution_count": 9,
     "metadata": {},
     "output_type": "execute_result"
    }
   ],
   "source": [
    "sc = MinMaxScaler(feature_range=(0,1))\n",
    "trainData = sc.fit_transform(trainData)\n",
    "trainData.shape"
   ]
  },
  {
   "cell_type": "code",
   "execution_count": 10,
   "id": "c1bac31e-28fc-4956-a7aa-cbfdc65804b3",
   "metadata": {},
   "outputs": [],
   "source": [
    "X_train = []\n",
    "y_train = []\n",
    "\n",
    "for i in range (60,1149): #60 : timestep // 1149 : length of the data\n",
    "    X_train.append(trainData[i-60:i,0]) \n",
    "    y_train.append(trainData[i,0])\n",
    "\n",
    "X_train,y_train = np.array(X_train),np.array(y_train)"
   ]
  },
  {
   "cell_type": "code",
   "execution_count": 11,
   "id": "6f47c877-205f-4174-9cf8-57f738d43e4a",
   "metadata": {},
   "outputs": [
    {
     "data": {
      "text/plain": [
       "(1089, 60, 1)"
      ]
     },
     "execution_count": 11,
     "metadata": {},
     "output_type": "execute_result"
    }
   ],
   "source": [
    "X_train = np.reshape(X_train,(X_train.shape[0],X_train.shape[1],1)) #adding the batch_size axis\n",
    "X_train.shape"
   ]
  },
  {
   "cell_type": "code",
   "execution_count": 12,
   "id": "a2c70f2b-6d70-4764-aa2e-dd2a4682b953",
   "metadata": {},
   "outputs": [
    {
     "name": "stderr",
     "output_type": "stream",
     "text": [
      "/opt/homebrew/anaconda3/lib/python3.12/site-packages/keras/src/layers/rnn/rnn.py:204: UserWarning: Do not pass an `input_shape`/`input_dim` argument to a layer. When using Sequential models, prefer using an `Input(shape)` object as the first layer in the model instead.\n",
      "  super().__init__(**kwargs)\n"
     ]
    }
   ],
   "source": [
    "model = Sequential()\n",
    "\n",
    "model.add(LSTM(units=100, return_sequences = True, input_shape =(X_train.shape[1],1)))\n",
    "model.add(Dropout(0.2))\n",
    "\n",
    "model.add(LSTM(units=100, return_sequences = True))\n",
    "model.add(Dropout(0.2))\n",
    "\n",
    "model.add(LSTM(units=100, return_sequences = True))\n",
    "model.add(Dropout(0.2))\n",
    "\n",
    "model.add(LSTM(units=100, return_sequences = False))\n",
    "model.add(Dropout(0.2))\n",
    "\n",
    "model.add(Dense(units =1))\n",
    "model.compile(optimizer='adam',loss=\"mean_squared_error\")"
   ]
  },
  {
   "cell_type": "code",
   "execution_count": 13,
   "id": "cc60026e-0cb4-413e-8654-371ec3615c24",
   "metadata": {},
   "outputs": [
    {
     "name": "stdout",
     "output_type": "stream",
     "text": [
      "Epoch 1/20\n",
      "35/35 - 4s - 127ms/step - loss: 0.0344\n",
      "Epoch 2/20\n",
      "35/35 - 3s - 81ms/step - loss: 0.0098\n",
      "Epoch 3/20\n",
      "35/35 - 3s - 82ms/step - loss: 0.0093\n",
      "Epoch 4/20\n",
      "35/35 - 3s - 85ms/step - loss: 0.0100\n",
      "Epoch 5/20\n",
      "35/35 - 3s - 86ms/step - loss: 0.0070\n",
      "Epoch 6/20\n",
      "35/35 - 3s - 85ms/step - loss: 0.0063\n",
      "Epoch 7/20\n",
      "35/35 - 3s - 84ms/step - loss: 0.0069\n",
      "Epoch 8/20\n",
      "35/35 - 3s - 84ms/step - loss: 0.0063\n",
      "Epoch 9/20\n",
      "35/35 - 3s - 86ms/step - loss: 0.0068\n",
      "Epoch 10/20\n",
      "35/35 - 3s - 87ms/step - loss: 0.0069\n",
      "Epoch 11/20\n",
      "35/35 - 3s - 84ms/step - loss: 0.0060\n",
      "Epoch 12/20\n",
      "35/35 - 3s - 84ms/step - loss: 0.0069\n",
      "Epoch 13/20\n",
      "35/35 - 3s - 84ms/step - loss: 0.0054\n",
      "Epoch 14/20\n",
      "35/35 - 3s - 84ms/step - loss: 0.0052\n",
      "Epoch 15/20\n",
      "35/35 - 3s - 85ms/step - loss: 0.0096\n",
      "Epoch 16/20\n",
      "35/35 - 3s - 87ms/step - loss: 0.0053\n",
      "Epoch 17/20\n",
      "35/35 - 3s - 84ms/step - loss: 0.0052\n",
      "Epoch 18/20\n",
      "35/35 - 3s - 85ms/step - loss: 0.0053\n",
      "Epoch 19/20\n",
      "35/35 - 3s - 90ms/step - loss: 0.0046\n",
      "Epoch 20/20\n",
      "35/35 - 3s - 87ms/step - loss: 0.0057\n"
     ]
    }
   ],
   "source": [
    "hist = model.fit(X_train, y_train, epochs = 20, batch_size = 32, verbose=2)"
   ]
  },
  {
   "cell_type": "code",
   "execution_count": 14,
   "id": "fc915deb-f395-49bb-ac46-3135b2e3fd6d",
   "metadata": {},
   "outputs": [
    {
     "data": {
      "image/png": "[encoded data removed]",
      "text/plain": [
       "<Figure size 640x480 with 1 Axes>"
      ]
     },
     "metadata": {},
     "output_type": "display_data"
    }
   ],
   "source": [
    "plt.plot(hist.history['loss'])\n",
    "plt.title('Training model loss')\n",
    "plt.ylabel('loss')\n",
    "plt.xlabel('epoch')\n",
    "plt.legend(['train'], loc='upper left')\n",
    "plt.show()"
   ]
  },
  {
   "cell_type": "code",
   "execution_count": 15,
   "id": "c7e8b78a-6c2d-4a30-bd4d-eb5f7cf66668",
   "metadata": {},
   "outputs": [
    {
     "data": {
      "text/plain": [
       "(192, 60, 1)"
      ]
     },
     "execution_count": 15,
     "metadata": {},
     "output_type": "execute_result"
    }
   ],
   "source": [
    "testData = pd.read_csv('Google_test_data.csv')\n",
    "testData[\"Close\"]=pd.to_numeric(testData.Close,errors='coerce')\n",
    "testData = testData.dropna()\n",
    "testData = testData.iloc[:,4:5]\n",
    "y_test = testData.iloc[60:,0:].values \n",
    "#input array for the model\n",
    "inputClosing = testData.iloc[:,0:].values \n",
    "inputClosing_scaled = sc.transform(inputClosing)\n",
    "inputClosing_scaled.shape\n",
    "X_test = []\n",
    "length = len(testData)\n",
    "timestep = 60\n",
    "for i in range(timestep,length):  \n",
    "    X_test.append(inputClosing_scaled[i-timestep:i,0])\n",
    "X_test = np.array(X_test)\n",
    "X_test = np.reshape(X_test,(X_test.shape[0],X_test.shape[1],1))\n",
    "X_test.shape"
   ]
  },
  {
   "cell_type": "code",
   "execution_count": 16,
   "id": "bb6866f3-6b76-433e-b1a2-27b53da369f1",
   "metadata": {},
   "outputs": [
    {
     "name": "stdout",
     "output_type": "stream",
     "text": [
      "\u001b[1m6/6\u001b[0m \u001b[32m━━━━━━━━━━━━━━━━━━━━\u001b[0m\u001b[37m\u001b[0m \u001b[1m0s\u001b[0m 21ms/step\n"
     ]
    },
    {
     "data": {
      "text/plain": [
       "array([[1.0737193 ],\n",
       "       [1.0764362 ],\n",
       "       [1.0866699 ],\n",
       "       [1.1016663 ],\n",
       "       [1.1132272 ],\n",
       "       [1.1121346 ],\n",
       "       [1.0992469 ],\n",
       "       [1.0822073 ],\n",
       "       [1.0714924 ],\n",
       "       [1.0690011 ],\n",
       "       [1.0637883 ],\n",
       "       [1.0547081 ],\n",
       "       [1.0465854 ],\n",
       "       [1.0391139 ],\n",
       "       [1.0380379 ],\n",
       "       [1.0426879 ],\n",
       "       [1.0592219 ],\n",
       "       [1.0846235 ],\n",
       "       [1.113001  ],\n",
       "       [1.1403781 ],\n",
       "       [1.1498986 ],\n",
       "       [1.144658  ],\n",
       "       [1.1244212 ],\n",
       "       [1.0971532 ],\n",
       "       [1.073548  ],\n",
       "       [1.0611203 ],\n",
       "       [1.0596634 ],\n",
       "       [1.0613171 ],\n",
       "       [1.0567733 ],\n",
       "       [1.0483903 ],\n",
       "       [1.0385597 ],\n",
       "       [1.0270892 ],\n",
       "       [1.0096693 ],\n",
       "       [0.98815703],\n",
       "       [0.97995585],\n",
       "       [0.9893844 ],\n",
       "       [1.0097541 ],\n",
       "       [1.0322622 ],\n",
       "       [1.0527478 ],\n",
       "       [1.0620457 ],\n",
       "       [1.0710894 ],\n",
       "       [1.0825053 ],\n",
       "       [1.0963278 ],\n",
       "       [1.1093297 ],\n",
       "       [1.1178161 ],\n",
       "       [1.1179239 ],\n",
       "       [1.1082942 ],\n",
       "       [1.0998927 ],\n",
       "       [1.0977982 ],\n",
       "       [1.1035281 ],\n",
       "       [1.1158847 ],\n",
       "       [1.1244513 ],\n",
       "       [1.1269916 ],\n",
       "       [1.1243447 ],\n",
       "       [1.1227409 ],\n",
       "       [1.1194447 ],\n",
       "       [1.1122282 ],\n",
       "       [1.1087968 ],\n",
       "       [1.1170365 ],\n",
       "       [1.1333828 ],\n",
       "       [1.1565346 ],\n",
       "       [1.1837772 ],\n",
       "       [1.2020932 ],\n",
       "       [1.2039474 ],\n",
       "       [1.1916794 ],\n",
       "       [1.1725258 ],\n",
       "       [1.1593992 ],\n",
       "       [1.1555012 ],\n",
       "       [1.1592335 ],\n",
       "       [1.1650132 ],\n",
       "       [1.1707644 ],\n",
       "       [1.174197  ],\n",
       "       [1.1712102 ],\n",
       "       [1.1662477 ],\n",
       "       [1.1619519 ],\n",
       "       [1.1607614 ],\n",
       "       [1.1627041 ],\n",
       "       [1.1673044 ],\n",
       "       [1.1777388 ],\n",
       "       [1.1932846 ],\n",
       "       [1.213105  ],\n",
       "       [1.2316947 ],\n",
       "       [1.2415898 ],\n",
       "       [1.2418264 ],\n",
       "       [1.2433544 ],\n",
       "       [1.2528429 ],\n",
       "       [1.2678111 ],\n",
       "       [1.2810733 ],\n",
       "       [1.2886224 ],\n",
       "       [1.290069  ],\n",
       "       [1.2907376 ],\n",
       "       [1.2983576 ],\n",
       "       [1.3131787 ],\n",
       "       [1.3235875 ],\n",
       "       [1.3228587 ],\n",
       "       [1.31114   ],\n",
       "       [1.2913367 ],\n",
       "       [1.2689148 ],\n",
       "       [1.2507263 ],\n",
       "       [1.2449931 ],\n",
       "       [1.2521302 ],\n",
       "       [1.268118  ],\n",
       "       [1.2887096 ],\n",
       "       [1.3062785 ],\n",
       "       [1.316425  ],\n",
       "       [1.3175303 ],\n",
       "       [1.313459  ],\n",
       "       [1.3082587 ],\n",
       "       [1.3073217 ],\n",
       "       [1.3113531 ],\n",
       "       [1.319449  ],\n",
       "       [1.3308436 ],\n",
       "       [1.3423234 ],\n",
       "       [1.354277  ],\n",
       "       [1.3687197 ],\n",
       "       [1.3806554 ],\n",
       "       [1.3894022 ],\n",
       "       [1.3965937 ],\n",
       "       [1.4058416 ],\n",
       "       [1.3894546 ],\n",
       "       [1.3469754 ],\n",
       "       [1.2933732 ],\n",
       "       [1.2504667 ],\n",
       "       [1.2277228 ],\n",
       "       [1.2204715 ],\n",
       "       [1.2213868 ],\n",
       "       [1.2250332 ],\n",
       "       [1.2295908 ],\n",
       "       [1.2265403 ],\n",
       "       [1.2141967 ],\n",
       "       [1.2078329 ],\n",
       "       [1.2147459 ],\n",
       "       [1.2276418 ],\n",
       "       [1.2346133 ],\n",
       "       [1.2358137 ],\n",
       "       [1.2338783 ],\n",
       "       [1.2285098 ],\n",
       "       [1.2197311 ],\n",
       "       [1.2100374 ],\n",
       "       [1.1976601 ],\n",
       "       [1.1850029 ],\n",
       "       [1.1713866 ],\n",
       "       [1.143446  ],\n",
       "       [1.1096318 ],\n",
       "       [1.0769958 ],\n",
       "       [1.0521691 ],\n",
       "       [1.0426272 ],\n",
       "       [1.0504712 ],\n",
       "       [1.0697415 ],\n",
       "       [1.0921199 ],\n",
       "       [1.1138757 ],\n",
       "       [1.1308931 ],\n",
       "       [1.14296   ],\n",
       "       [1.1526213 ],\n",
       "       [1.1598331 ],\n",
       "       [1.1661844 ],\n",
       "       [1.173723  ],\n",
       "       [1.1799576 ],\n",
       "       [1.1767002 ],\n",
       "       [1.1633371 ],\n",
       "       [1.1440407 ],\n",
       "       [1.1257013 ],\n",
       "       [1.1162393 ],\n",
       "       [1.1193631 ],\n",
       "       [1.1339604 ],\n",
       "       [1.1562127 ],\n",
       "       [1.1759864 ],\n",
       "       [1.1902474 ],\n",
       "       [1.20185   ],\n",
       "       [1.2119576 ],\n",
       "       [1.219998  ],\n",
       "       [1.2263744 ],\n",
       "       [1.2314032 ],\n",
       "       [1.2329756 ],\n",
       "       [1.2311733 ],\n",
       "       [1.2234355 ],\n",
       "       [1.2138668 ],\n",
       "       [1.2075313 ],\n",
       "       [1.2036729 ],\n",
       "       [1.2002898 ],\n",
       "       [1.2249333 ],\n",
       "       [1.271028  ],\n",
       "       [1.3182675 ],\n",
       "       [1.3505682 ],\n",
       "       [1.3619746 ],\n",
       "       [1.3529493 ],\n",
       "       [1.3216773 ],\n",
       "       [1.2843877 ],\n",
       "       [1.2537247 ],\n",
       "       [1.2424982 ],\n",
       "       [1.2449876 ],\n",
       "       [1.2510103 ]], dtype=float32)"
      ]
     },
     "execution_count": 16,
     "metadata": {},
     "output_type": "execute_result"
    }
   ],
   "source": [
    "y_pred = model.predict(X_test)\n",
    "y_pred"
   ]
  },
  {
   "cell_type": "code",
   "execution_count": 17,
   "id": "9e38f34c-eb3d-4055-b312-56e2c4247ae5",
   "metadata": {},
   "outputs": [],
   "source": [
    "predicted_price = sc.inverse_transform(y_pred)"
   ]
  },
  {
   "cell_type": "code",
   "execution_count": 18,
   "id": "de1e7f5b-2853-4b65-ade1-cd673d9dd29d",
   "metadata": {},
   "outputs": [
    {
     "data": {
      "image/png": "[encoded data removed]",
      "text/plain": [
       "<Figure size 640x480 with 1 Axes>"
      ]
     },
     "metadata": {},
     "output_type": "display_data"
    }
   ],
   "source": [
    "plt.plot(y_test, color = 'red', label = 'Actual Stock Price')\n",
    "plt.plot(predicted_price, color = 'green', label = 'Predicted Stock Price')\n",
    "plt.title('Google stock price prediction')\n",
    "plt.xlabel('Time')\n",
    "plt.ylabel('Stock Price')\n",
    "plt.legend()\n",
    "plt.show()"
   ]
  }
 ],
 "metadata": {
  "kernelspec": {
   "display_name": "Python 3 (ipykernel)",
   "language": "python",
   "name": "python3"
  },
  "language_info": {
   "codemirror_mode": {
    "name": "ipython",
    "version": 3
   },
   "file_extension": ".py",
   "mimetype": "text/x-python",
   "name": "python",
   "nbconvert_exporter": "python",
   "pygments_lexer": "ipython3",
   "version": "3.12.7"
  }
 },
 "nbformat": 4,
 "nbformat_minor": 5
}
